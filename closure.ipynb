{
 "cells": [
  {
   "cell_type": "code",
   "execution_count": 1,
   "metadata": {},
   "outputs": [],
   "source": [
    "from __future__ import print_function, unicode_literals"
   ]
  },
  {
   "cell_type": "markdown",
   "metadata": {
    "collapsed": true
   },
   "source": [
    "# Nested Function 有什麼語感\n",
    "\n",
    "# 看起來不錯，效能有差別嗎？\n",
    "\n",
    "# 有辦法達成一樣目標，但是變快更多嗎？\n",
    "\n",
    " \t"
   ]
  },
  {
   "cell_type": "markdown",
   "metadata": {},
   "source": [
    "1. object creation\n",
    "2. private function\n"
   ]
  },
  {
   "cell_type": "code",
   "execution_count": 21,
   "metadata": {},
   "outputs": [
    {
     "name": "stdout",
     "output_type": "stream",
     "text": [
      "10000 loops, best of 3: 31.5 µs per loop\n"
     ]
    }
   ],
   "source": [
    "import random\n",
    "\n",
    "def StudentClosure(score):\n",
    "    total_score = 0 \n",
    "    def inner():\n",
    "        return total_score\n",
    "        \n",
    "    \n",
    "    return inner\n",
    "\n",
    "student = StudentClosure(score=100)\n",
    "student()\n",
    "%timeit  student = [StudentClosure(score)() for score in range(100)] \n"
   ]
  },
  {
   "cell_type": "code",
   "execution_count": 20,
   "metadata": {},
   "outputs": [
    {
     "name": "stdout",
     "output_type": "stream",
     "text": [
      "10000 loops, best of 3: 48.4 µs per loop\n"
     ]
    }
   ],
   "source": [
    "class Student(object):\n",
    "    def __init__(self, score):\n",
    "        self.score = score\n",
    "    def __call__(self):\n",
    "        return self.score\n",
    "\n",
    "student = Student(100)\n",
    "student()\n",
    "%timeit  student = [Student(score)() for score in range(100)] \n"
   ]
  },
  {
   "cell_type": "code",
   "execution_count": null,
   "metadata": {},
   "outputs": [],
   "source": []
  },
  {
   "cell_type": "markdown",
   "metadata": {},
   "source": [
    "## Reference\n",
    "\n",
    "\n",
    "\n",
    "### Raymond \n",
    "\n",
    "https://stackoverflow.com/questions/8966785/function-closure-vs-callable-class\n",
    "\n",
    "* object is flexible, closure is faster\n"
   ]
  }
 ],
 "metadata": {
  "kernelspec": {
   "display_name": "Python 2",
   "language": "python",
   "name": "python2"
  },
  "language_info": {
   "codemirror_mode": {
    "name": "ipython",
    "version": 2
   },
   "file_extension": ".py",
   "mimetype": "text/x-python",
   "name": "python",
   "nbconvert_exporter": "python",
   "pygments_lexer": "ipython2",
   "version": "2.7.10"
  }
 },
 "nbformat": 4,
 "nbformat_minor": 1
}

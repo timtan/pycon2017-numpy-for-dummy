{
 "cells": [
  {
   "cell_type": "code",
   "execution_count": 1,
   "metadata": {},
   "outputs": [],
   "source": [
    "from __future__ import print_function, unicode_literals"
   ]
  },
  {
   "cell_type": "markdown",
   "metadata": {
    "collapsed": true
   },
   "source": [
    "# Nested Function 有什麼語感\n",
    "\n",
    "# 看起來不錯，效能有差別嗎？\n",
    "\n",
    "# 有辦法達成一樣目標，但是變快更多嗎？\n",
    "\n",
    " \t"
   ]
  },
  {
   "cell_type": "markdown",
   "metadata": {},
   "source": [
    "1. object creation\n",
    "2. private function\n"
   ]
  },
  {
   "cell_type": "code",
   "execution_count": 13,
   "metadata": {},
   "outputs": [
    {
     "data": {
      "text/plain": [
       "100"
      ]
     },
     "execution_count": 13,
     "metadata": {},
     "output_type": "execute_result"
    }
   ],
   "source": [
    "\n",
    "def StudentClosure(score):\n",
    "    def inner():\n",
    "        return score\n",
    "        \n",
    "    return inner\n",
    "\n",
    "student = StudentClosure(score=100)\n",
    "student()\n"
   ]
  },
  {
   "cell_type": "code",
   "execution_count": 14,
   "metadata": {},
   "outputs": [
    {
     "data": {
      "text/plain": [
       "100"
      ]
     },
     "execution_count": 14,
     "metadata": {},
     "output_type": "execute_result"
    }
   ],
   "source": [
    "class Student(object):\n",
    "    def __init__(self, score):\n",
    "        self.score = score\n",
    "    def __call__(self):\n",
    "        return self.score\n",
    "\n",
    "student = Student(100)\n",
    "student()\n"
   ]
  },
  {
   "cell_type": "code",
   "execution_count": 15,
   "metadata": {},
   "outputs": [
    {
     "name": "stdout",
     "output_type": "stream",
     "text": [
      "10000 loops, best of 3: 34.2 µs per loop\n"
     ]
    }
   ],
   "source": [
    "%timeit  student = [StudentClosure(score)() for score in range(100)] \n"
   ]
  },
  {
   "cell_type": "code",
   "execution_count": 16,
   "metadata": {},
   "outputs": [
    {
     "name": "stdout",
     "output_type": "stream",
     "text": [
      "10000 loops, best of 3: 55.9 µs per loop\n"
     ]
    }
   ],
   "source": [
    "%timeit  student = [Student(score)() for score in range(100)] \n"
   ]
  },
  {
   "cell_type": "markdown",
   "metadata": {},
   "source": [
    "## More "
   ]
  },
  {
   "cell_type": "code",
   "execution_count": 17,
   "metadata": {},
   "outputs": [],
   "source": [
    "def StudentClosure(score, a, b, c, d, e):\n",
    "    def inner():\n",
    "        return score, a, b, c, d, e\n",
    "        \n",
    "    return inner\n",
    "\n"
   ]
  },
  {
   "cell_type": "code",
   "execution_count": 18,
   "metadata": {},
   "outputs": [],
   "source": [
    "class Student(object):\n",
    "    def __init__(self, score, a, b, c, d, e):\n",
    "        self.score = score\n",
    "        self.a = a\n",
    "        self.b = b\n",
    "        self.c = c\n",
    "        self.d = d\n",
    "        self.e = e\n",
    "        \n",
    "    def __call__(self):\n",
    "        return self.score, self.a, self.b, self.d, self.d, self.e\n",
    "\n",
    "\n"
   ]
  },
  {
   "cell_type": "code",
   "execution_count": 27,
   "metadata": {},
   "outputs": [
    {
     "name": "stdout",
     "output_type": "stream",
     "text": [
      "100 loops, best of 3: 7.35 ms per loop\n"
     ]
    }
   ],
   "source": [
    "%timeit  student = [StudentClosure(r, r, r, r, r, r)() for r in range(10000)] "
   ]
  },
  {
   "cell_type": "code",
   "execution_count": 26,
   "metadata": {},
   "outputs": [
    {
     "name": "stdout",
     "output_type": "stream",
     "text": [
      "100 loops, best of 3: 14.1 ms per loop\n"
     ]
    }
   ],
   "source": [
    "%timeit  student = [Student(r, r, r, r, r, r)() for r in range(10000)] \n"
   ]
  },
  {
   "cell_type": "markdown",
   "metadata": {},
   "source": [
    "## A sense of Private Function\n",
    "\n"
   ]
  },
  {
   "cell_type": "code",
   "execution_count": 67,
   "metadata": {},
   "outputs": [],
   "source": [
    "def _a(n):\n",
    "    return n + 1\n",
    " \n",
    "def normal(loopcount):\n",
    "    return sum([_a(n) for n in xrange(loopcount)])\n",
    " \n",
    "def nested(loopcount):\n",
    "    def a(n):\n",
    "        return n + 1\n",
    "    return sum([a(n) for n in xrange(loopcount)])"
   ]
  },
  {
   "cell_type": "code",
   "execution_count": 68,
   "metadata": {},
   "outputs": [
    {
     "name": "stdout",
     "output_type": "stream",
     "text": [
      "1 loop, best of 3: 1.37 s per loop\n"
     ]
    }
   ],
   "source": [
    "%timeit normal(10000000)"
   ]
  },
  {
   "cell_type": "code",
   "execution_count": 69,
   "metadata": {},
   "outputs": [
    {
     "name": "stdout",
     "output_type": "stream",
     "text": [
      "1 loop, best of 3: 1.38 s per loop\n"
     ]
    }
   ],
   "source": [
    "%timeit nested(10000000)"
   ]
  },
  {
   "cell_type": "code",
   "execution_count": 65,
   "metadata": {},
   "outputs": [],
   "source": [
    "def _a(n):\n",
    "    n += 1\n",
    "    n += 2\n",
    "    n += 3\n",
    "    n += 1\n",
    "    n += 2\n",
    "    n += 3\n",
    "    return n + 1\n",
    " \n",
    "def normal(loopcount):\n",
    "    return sum([_a(n) for n in range(loopcount)])\n",
    " \n",
    "def nested(loopcount):\n",
    "    def a(n):\n",
    "        n += 1\n",
    "        n += 2\n",
    "        n += 3\n",
    "        n += 1\n",
    "        n += 2\n",
    "        n += 3\n",
    "        return n + 1\n",
    "    return sum([a(n) for n in range(loopcount)])"
   ]
  },
  {
   "cell_type": "code",
   "execution_count": 58,
   "metadata": {},
   "outputs": [
    {
     "name": "stdout",
     "output_type": "stream",
     "text": [
      "1 loop, best of 3: 3.05 s per loop\n"
     ]
    }
   ],
   "source": [
    "%timeit normal(10000000)"
   ]
  },
  {
   "cell_type": "code",
   "execution_count": 59,
   "metadata": {},
   "outputs": [
    {
     "name": "stdout",
     "output_type": "stream",
     "text": [
      "1 loop, best of 3: 3.11 s per loop\n"
     ]
    }
   ],
   "source": [
    "%timeit nested(10000000)"
   ]
  },
  {
   "cell_type": "code",
   "execution_count": 60,
   "metadata": {},
   "outputs": [],
   "source": [
    "class Test(object):\n",
    "    def _a(self, n):\n",
    "        n += 1\n",
    "        n += 2\n",
    "        n += 3\n",
    "        n += 1\n",
    "        n += 2\n",
    "        n += 3\n",
    "        return n + 1\n",
    "\n",
    "    def normal(self, loopcount):\n",
    "        return sum([self._a(n) for n in range(loopcount)])\n",
    "\n",
    "    def nested(self, loopcount):\n",
    "        def a(n):\n",
    "            n += 1\n",
    "            n += 2\n",
    "            n += 3\n",
    "            n += 1\n",
    "            n += 2\n",
    "            n += 3\n",
    "            return n + 1\n",
    "        return sum([a(n) for n in range(loopcount)])"
   ]
  },
  {
   "cell_type": "code",
   "execution_count": 61,
   "metadata": {},
   "outputs": [
    {
     "name": "stdout",
     "output_type": "stream",
     "text": [
      "1 loop, best of 3: 3.58 s per loop\n"
     ]
    }
   ],
   "source": [
    "t = Test()\n",
    "%timeit t.normal(10000000)"
   ]
  },
  {
   "cell_type": "code",
   "execution_count": 62,
   "metadata": {},
   "outputs": [
    {
     "name": "stdout",
     "output_type": "stream",
     "text": [
      "1 loop, best of 3: 3.1 s per loop\n"
     ]
    }
   ],
   "source": [
    "t = Test()\n",
    "%timeit t.nested(10000000)"
   ]
  },
  {
   "cell_type": "markdown",
   "metadata": {},
   "source": [
    "## Conclusion\n",
    "\n",
    "* Nested function 或許會快一點點\n",
    "* if you want a 100% private and won't reuse. nested function can be a good choice "
   ]
  },
  {
   "cell_type": "markdown",
   "metadata": {},
   "source": [
    "## Reference\n",
    "\n",
    "\n",
    "\n",
    "### Raymond \n",
    "\n",
    "https://stackoverflow.com/questions/8966785/function-closure-vs-callable-class\n",
    "\n",
    "* object is flexible, closure is faster\n",
    "\n",
    "\n",
    "### Look Up Time\n",
    "\n",
    "* https://stackoverflow.com/questions/14122195/are-nested-functions-faster-than-global-functions-in-python\n"
   ]
  },
  {
   "cell_type": "code",
   "execution_count": null,
   "metadata": {},
   "outputs": [],
   "source": []
  }
 ],
 "metadata": {
  "kernelspec": {
   "display_name": "Python 2",
   "language": "python",
   "name": "python2"
  },
  "language_info": {
   "codemirror_mode": {
    "name": "ipython",
    "version": 2
   },
   "file_extension": ".py",
   "mimetype": "text/x-python",
   "name": "python",
   "nbconvert_exporter": "python",
   "pygments_lexer": "ipython2",
   "version": "2.7.10"
  }
 },
 "nbformat": 4,
 "nbformat_minor": 1
}

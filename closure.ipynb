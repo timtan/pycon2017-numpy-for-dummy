{
 "cells": [
  {
   "cell_type": "code",
   "execution_count": 1,
   "metadata": {
    "slideshow": {
     "slide_type": "skip"
    }
   },
   "outputs": [],
   "source": [
    "from __future__ import print_function, unicode_literals"
   ]
  },
  {
   "cell_type": "markdown",
   "metadata": {
    "slideshow": {
     "slide_type": "slide"
    }
   },
   "source": [
    "# To Nest or Not to Nest !"
   ]
  },
  {
   "cell_type": "markdown",
   "metadata": {
    "slideshow": {
     "slide_type": "slide"
    }
   },
   "source": [
    "## Nest function\n",
    "\n",
    "* 有些情況會忍不住要用，但是慢慢對 python 多了解以後，會產生一些疑問\n",
    "* 今天會做下面的事情\n",
    "\n",
    "1.  簡介用途\n",
    "2.  benchmark 給大家看  (其實差別都不大拉)"
   ]
  },
  {
   "cell_type": "markdown",
   "metadata": {
    "slideshow": {
     "slide_type": "slide"
    }
   },
   "source": [
    "## Nested function 簡易的用途\n",
    "\n"
   ]
  },
  {
   "cell_type": "markdown",
   "metadata": {},
   "source": [
    "* decorator\n",
    "* capture data\n",
    "* sense of private function"
   ]
  },
  {
   "cell_type": "markdown",
   "metadata": {
    "slideshow": {
     "slide_type": "slide"
    }
   },
   "source": [
    "## Nested function 每次都會製造新物件"
   ]
  },
  {
   "cell_type": "code",
   "execution_count": 79,
   "metadata": {
    "slideshow": {
     "slide_type": "slide"
    }
   },
   "outputs": [],
   "source": [
    "def _a():\n",
    "     pass\n",
    "    \n",
    "def normal(loopcount):\n",
    "    return _a\n",
    "\n",
    "def nested(loopcount):\n",
    "    def a(n):\n",
    "        pass\n",
    "    return a"
   ]
  },
  {
   "cell_type": "code",
   "execution_count": 80,
   "metadata": {},
   "outputs": [
    {
     "name": "stdout",
     "output_type": "stream",
     "text": [
      "4443352192\n",
      "4443352192\n",
      "4443352192\n"
     ]
    }
   ],
   "source": [
    "print(id(normal(0)))\n",
    "print(id(normal(0)))\n",
    "print(id(normal(0)))\n"
   ]
  },
  {
   "cell_type": "code",
   "execution_count": 81,
   "metadata": {},
   "outputs": [
    {
     "name": "stdout",
     "output_type": "stream",
     "text": [
      "4443809264\n",
      "4443601688\n",
      "4443601928\n"
     ]
    }
   ],
   "source": [
    "print(id(nested(0)))\n",
    "print(id(nested(0)))\n",
    "print(id(nested(0)))"
   ]
  },
  {
   "cell_type": "markdown",
   "metadata": {
    "collapsed": true,
    "slideshow": {
     "slide_type": "slide"
    }
   },
   "source": [
    "\n",
    "# 看起來不錯，效能有差別嗎？\n",
    "\n",
    "\n",
    " \t"
   ]
  },
  {
   "cell_type": "markdown",
   "metadata": {},
   "source": [
    "1. object creation\n",
    "2. private function\n"
   ]
  },
  {
   "cell_type": "code",
   "execution_count": 13,
   "metadata": {
    "slideshow": {
     "slide_type": "slide"
    }
   },
   "outputs": [
    {
     "data": {
      "text/plain": [
       "100"
      ]
     },
     "execution_count": 13,
     "metadata": {},
     "output_type": "execute_result"
    }
   ],
   "source": [
    "\n",
    "def StudentClosure(score):\n",
    "    def inner():\n",
    "        return score      \n",
    "    return inner\n",
    "\n",
    "student = StudentClosure(score=100)\n",
    "student()\n"
   ]
  },
  {
   "cell_type": "code",
   "execution_count": 14,
   "metadata": {},
   "outputs": [
    {
     "data": {
      "text/plain": [
       "100"
      ]
     },
     "execution_count": 14,
     "metadata": {},
     "output_type": "execute_result"
    }
   ],
   "source": [
    "class Student(object):\n",
    "    def __init__(self, score):\n",
    "        self.score = score\n",
    "    def __call__(self):\n",
    "        return self.score\n",
    "\n",
    "student = Student(100)\n",
    "student()\n"
   ]
  },
  {
   "cell_type": "code",
   "execution_count": 15,
   "metadata": {
    "slideshow": {
     "slide_type": "slide"
    }
   },
   "outputs": [
    {
     "name": "stdout",
     "output_type": "stream",
     "text": [
      "10000 loops, best of 3: 34.2 µs per loop\n"
     ]
    }
   ],
   "source": [
    "%timeit  student = [StudentClosure(score)() for score in range(100)] \n"
   ]
  },
  {
   "cell_type": "code",
   "execution_count": 16,
   "metadata": {},
   "outputs": [
    {
     "name": "stdout",
     "output_type": "stream",
     "text": [
      "10000 loops, best of 3: 55.9 µs per loop\n"
     ]
    }
   ],
   "source": [
    "%timeit  student = [Student(score)() for score in range(100)] \n"
   ]
  },
  {
   "cell_type": "markdown",
   "metadata": {
    "slideshow": {
     "slide_type": "slide"
    }
   },
   "source": [
    "## More "
   ]
  },
  {
   "cell_type": "code",
   "execution_count": 17,
   "metadata": {},
   "outputs": [],
   "source": [
    "def StudentClosure(score, a, b, c, d, e):\n",
    "    def inner():\n",
    "        return score, a, b, c, d, e\n",
    "    return inner"
   ]
  },
  {
   "cell_type": "code",
   "execution_count": 18,
   "metadata": {},
   "outputs": [],
   "source": [
    "class Student(object):\n",
    "    def __init__(self, score, a, b, c, d, e):\n",
    "        self.score = score\n",
    "        self.a = a\n",
    "        self.b = b\n",
    "        self.c = c\n",
    "        self.d = d\n",
    "        self.e = e\n",
    "        \n",
    "    def __call__(self):\n",
    "        return self.score, self.a, self.b, self.d, self.d, self.e"
   ]
  },
  {
   "cell_type": "code",
   "execution_count": 27,
   "metadata": {
    "slideshow": {
     "slide_type": "slide"
    }
   },
   "outputs": [
    {
     "name": "stdout",
     "output_type": "stream",
     "text": [
      "100 loops, best of 3: 7.35 ms per loop\n"
     ]
    }
   ],
   "source": [
    "%timeit  student = [StudentClosure(r, r, r, r, r, r)() for r in range(10000)] "
   ]
  },
  {
   "cell_type": "code",
   "execution_count": 26,
   "metadata": {},
   "outputs": [
    {
     "name": "stdout",
     "output_type": "stream",
     "text": [
      "100 loops, best of 3: 14.1 ms per loop\n"
     ]
    }
   ],
   "source": [
    "%timeit  student = [Student(r, r, r, r, r, r)() for r in range(10000)] \n"
   ]
  },
  {
   "cell_type": "markdown",
   "metadata": {
    "slideshow": {
     "slide_type": "slide"
    }
   },
   "source": [
    "## nested function overhead\n",
    "\n"
   ]
  },
  {
   "cell_type": "code",
   "execution_count": 5,
   "metadata": {
    "slideshow": {
     "slide_type": "slide"
    }
   },
   "outputs": [],
   "source": [
    "def _a(n):\n",
    "    return n + 1\n",
    " \n",
    "def normal(loopcount):\n",
    "    return sum(_a(n) for n in xrange(loopcount))\n",
    " \n",
    "def nested(loopcount):\n",
    "    def a(n):\n",
    "        return n + 1\n",
    "    return sum(a(n) for n in xrange(loopcount))"
   ]
  },
  {
   "cell_type": "code",
   "execution_count": 2,
   "metadata": {},
   "outputs": [
    {
     "name": "stdout",
     "output_type": "stream",
     "text": [
      "10 loops, best of 3: 126 ms per loop\n"
     ]
    }
   ],
   "source": [
    "%timeit normal(1000000)"
   ]
  },
  {
   "cell_type": "code",
   "execution_count": 4,
   "metadata": {},
   "outputs": [
    {
     "name": "stdout",
     "output_type": "stream",
     "text": [
      "10 loops, best of 3: 132 ms per loop\n"
     ]
    }
   ],
   "source": [
    "%timeit nested(1000000)"
   ]
  },
  {
   "cell_type": "code",
   "execution_count": 8,
   "metadata": {},
   "outputs": [
    {
     "name": "stdout",
     "output_type": "stream",
     "text": [
      "100 loops, best of 3: 7.15 ms per loop\n"
     ]
    }
   ],
   "source": [
    "%timeit  [ normal(1) for i in range(10000) ]"
   ]
  },
  {
   "cell_type": "code",
   "execution_count": 9,
   "metadata": {},
   "outputs": [
    {
     "name": "stdout",
     "output_type": "stream",
     "text": [
      "100 loops, best of 3: 8.49 ms per loop\n"
     ]
    }
   ],
   "source": [
    "%timeit [ nested(1) for i in range(10000) ]"
   ]
  },
  {
   "cell_type": "code",
   "execution_count": 19,
   "metadata": {
    "slideshow": {
     "slide_type": "slide"
    }
   },
   "outputs": [],
   "source": [
    "def _a(n):\n",
    "    n += 1\n",
    "    n += 2\n",
    "    n += 3\n",
    "    n += 1\n",
    "    n += 2\n",
    "    n += 3\n",
    "    return n + 1\n",
    " \n",
    "def normal(loopcount):\n",
    "    return sum(_a(n) for n in xrange(loopcount))\n",
    " \n",
    "def nested(loopcount):\n",
    "    def a(n):\n",
    "        n += 1\n",
    "        n += 2\n",
    "        n += 3\n",
    "        n += 1\n",
    "        n += 2\n",
    "        n += 3\n",
    "        return n + 1\n",
    "    return sum(a(n) for n in xrange(loopcount))"
   ]
  },
  {
   "cell_type": "code",
   "execution_count": 20,
   "metadata": {
    "slideshow": {
     "slide_type": "slide"
    }
   },
   "outputs": [
    {
     "name": "stdout",
     "output_type": "stream",
     "text": [
      "100 loops, best of 3: 8.5 ms per loop\n"
     ]
    }
   ],
   "source": [
    "%timeit [ normal(1) for i in range(10000) ]"
   ]
  },
  {
   "cell_type": "code",
   "execution_count": 21,
   "metadata": {},
   "outputs": [
    {
     "name": "stdout",
     "output_type": "stream",
     "text": [
      "100 loops, best of 3: 9.75 ms per loop\n"
     ]
    }
   ],
   "source": [
    "%timeit  [ nested(1) for i in range(10000) ]"
   ]
  },
  {
   "cell_type": "code",
   "execution_count": 1,
   "metadata": {
    "slideshow": {
     "slide_type": "slide"
    }
   },
   "outputs": [],
   "source": [
    "class Test(object):\n",
    "    def _a(self, n):\n",
    "        return n + 1\n",
    "\n",
    "    def normal(self, loopcount):\n",
    "        return sum(self._a(n) for n in xrange(loopcount))\n",
    "\n",
    "    def nested(self, loopcount):\n",
    "        def a(n):\n",
    "            return n + 1\n",
    "        return sum(a(n) for n in xrange(loopcount))"
   ]
  },
  {
   "cell_type": "code",
   "execution_count": 2,
   "metadata": {
    "slideshow": {
     "slide_type": "-"
    }
   },
   "outputs": [
    {
     "name": "stdout",
     "output_type": "stream",
     "text": [
      "10 loops, best of 3: 166 ms per loop\n"
     ]
    }
   ],
   "source": [
    "t = Test()\n",
    "%timeit t.normal(1000000)"
   ]
  },
  {
   "cell_type": "code",
   "execution_count": 3,
   "metadata": {},
   "outputs": [
    {
     "name": "stdout",
     "output_type": "stream",
     "text": [
      "10 loops, best of 3: 136 ms per loop\n"
     ]
    }
   ],
   "source": [
    "t = Test()\n",
    "%timeit t.nested(1000000)"
   ]
  },
  {
   "cell_type": "code",
   "execution_count": 4,
   "metadata": {
    "slideshow": {
     "slide_type": "slide"
    }
   },
   "outputs": [
    {
     "name": "stdout",
     "output_type": "stream",
     "text": [
      "100 loops, best of 3: 8.96 ms per loop\n"
     ]
    }
   ],
   "source": [
    "t = Test()\n",
    "\n",
    "%timeit [ t.normal(1) for i in range(10000) ]"
   ]
  },
  {
   "cell_type": "code",
   "execution_count": 5,
   "metadata": {},
   "outputs": [
    {
     "name": "stdout",
     "output_type": "stream",
     "text": [
      "100 loops, best of 3: 9.15 ms per loop\n"
     ]
    }
   ],
   "source": [
    "t = Test()\n",
    "\n",
    "%timeit  [ t.nested(1) for i in range(10000) ]"
   ]
  },
  {
   "cell_type": "markdown",
   "metadata": {
    "slideshow": {
     "slide_type": "slide"
    }
   },
   "source": [
    "## Observation\n",
    "\n",
    "* 定義 function 會拖慢一點點速度，但是不會太多\n",
    "* 但是在物件內，不經由 self 存取，速度就補回來了\n",
    "\n",
    "## Conclusion\n",
    "\n",
    "* Nested function 或許會快一點點\n",
    "* if you want a 100% private and won't reuse. nested function can be a good choice "
   ]
  },
  {
   "cell_type": "markdown",
   "metadata": {
    "slideshow": {
     "slide_type": "slide"
    }
   },
   "source": [
    "## Reference\n",
    "\n",
    "\n",
    "\n",
    "### Raymond \n",
    "\n",
    "https://stackoverflow.com/questions/8966785/function-closure-vs-callable-class\n",
    "\n",
    "* object is flexible, closure is faster\n",
    "\n",
    "\n",
    "### Look Up Time\n",
    "\n",
    "* https://stackoverflow.com/questions/14122195/are-nested-functions-faster-than-global-functions-in-python\n"
   ]
  },
  {
   "cell_type": "code",
   "execution_count": null,
   "metadata": {},
   "outputs": [],
   "source": []
  }
 ],
 "metadata": {
  "celltoolbar": "Slideshow",
  "kernelspec": {
   "display_name": "Python 2",
   "language": "python",
   "name": "python2"
  },
  "language_info": {
   "codemirror_mode": {
    "name": "ipython",
    "version": 2
   },
   "file_extension": ".py",
   "mimetype": "text/x-python",
   "name": "python",
   "nbconvert_exporter": "python",
   "pygments_lexer": "ipython2",
   "version": "2.7.10"
  }
 },
 "nbformat": 4,
 "nbformat_minor": 1
}
